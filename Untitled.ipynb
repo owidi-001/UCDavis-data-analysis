{
 "cells": [
  {
   "cell_type": "code",
   "execution_count": 1,
   "id": "0be550e6-7de4-43b2-8386-9889ddba75c9",
   "metadata": {},
   "outputs": [],
   "source": [
    "# importing relevant libraries\n",
    "import pandas as pd\n",
    "import numpy as np\n",
    "import scipy.stats as st\n",
    "import matplotlib.pyplot as plt"
   ]
  },
  {
   "cell_type": "code",
   "execution_count": 2,
   "id": "f8cdecc8-9dc5-4b61-9734-b7f98393ffef",
   "metadata": {},
   "outputs": [
    {
     "name": "stdout",
     "output_type": "stream",
     "text": [
      "        Sex    Seat libarts    TV  computer  Sleep  alcohol  Height  \\\n",
      "0    Female    Back  NonLib  13.0      10.0    3.5     12.0    66.0   \n",
      "1      Male    Back  NonLib  20.0       7.0    9.0      0.0    72.0   \n",
      "2      Male    Back  NonLib  15.0      15.0    6.0      0.0    68.0   \n",
      "3      Male  Middle  NonLib   8.0      20.0    6.0      0.0    68.0   \n",
      "4    Female   Front  NonLib   2.5      10.0    5.0      5.0    64.0   \n",
      "..      ...     ...     ...   ...       ...    ...      ...     ...   \n",
      "150  Female    Back  NonLib   5.0      35.0    5.0      4.0    65.0   \n",
      "151    Male    Back  NonLib   8.0      32.0    6.0      3.0    72.0   \n",
      "152    Male  Middle  NonLib   9.0       7.0    7.0     10.0    75.0   \n",
      "153    Male   Front  NonLib   1.0      10.0    5.0      5.0    72.0   \n",
      "154  Female  Middle  NonLib   5.0       2.0    6.0      0.0    64.0   \n",
      "\n",
      "     momheight  dadheight  exercise   GPA  \n",
      "0         66.0       71.0      10.0  4.00  \n",
      "1         64.0       65.0       2.0  2.30  \n",
      "2         62.0       74.0       3.0  2.60  \n",
      "3         59.0       70.0       6.0  2.80  \n",
      "4         65.0       70.0       6.5  2.62  \n",
      "..         ...        ...       ...   ...  \n",
      "150       69.0       72.0       5.0  2.18  \n",
      "151       65.0       71.0       1.5  2.80  \n",
      "152       68.0       74.0       7.0  3.50  \n",
      "153       60.0       74.0       3.0  4.00  \n",
      "154       62.0       66.0       6.0  4.00  \n",
      "\n",
      "[155 rows x 12 columns]\n"
     ]
    }
   ],
   "source": [
    "# Loading the dataset\n",
    "data = pd.read_csv('UCDavisData.csv')\n",
    "\n",
    "# Test data loaded\n",
    "print(data)"
   ]
  },
  {
   "cell_type": "code",
   "execution_count": 3,
   "id": "b6f1d18f-fc05-44c5-b34a-bd481e127662",
   "metadata": {},
   "outputs": [
    {
     "name": "stdout",
     "output_type": "stream",
     "text": [
      "<class 'pandas.core.frame.DataFrame'>\n"
     ]
    }
   ],
   "source": [
    "# Create a pandas dataframe\n",
    "df = pd.DataFrame(data)\n",
    "\n",
    "# Test dataframe\n",
    "print(type(df))\n"
   ]
  },
  {
   "cell_type": "code",
   "execution_count": 4,
   "id": "cdb1167c-d9c5-47a3-a4b8-f786410bfedb",
   "metadata": {},
   "outputs": [
    {
     "name": "stdout",
     "output_type": "stream",
     "text": [
      "Mean \n",
      " TV            8.741935\n",
      "computer     14.068182\n",
      "Sleep         6.985484\n",
      "alcohol       4.409091\n",
      "Height       66.893548\n",
      "momheight    63.288710\n",
      "dadheight    69.256452\n",
      "exercise      4.597403\n",
      "GPA           2.913582\n",
      "dtype: float64\n",
      "Median \n",
      " TV            6.0\n",
      "computer     10.0\n",
      "Sleep         7.0\n",
      "alcohol       1.0\n",
      "Height       66.5\n",
      "momheight    63.0\n",
      "dadheight    69.0\n",
      "exercise      3.0\n",
      "GPA           3.0\n",
      "dtype: float64\n",
      "Mode \n",
      "       Sex    Seat libarts   TV  computer  Sleep  alcohol  Height  momheight  \\\n",
      "0  Female  Middle  NonLib  1.0      10.0    7.0      0.0    66.0       62.0   \n",
      "\n",
      "   dadheight  exercise  GPA  \n",
      "0       68.0       2.0  3.0  \n"
     ]
    }
   ],
   "source": [
    "# 1.\n",
    "# Central Tendency\n",
    "# Mean values in the distribution\n",
    "mean = df.mean()\n",
    "print(\"Mean \\n\", mean)\n",
    "\n",
    "# Median values in the distribution\n",
    "median = df.median()\n",
    "print(\"Median \\n\", median)\n",
    "\n",
    "# Mode in the distribution\n",
    "mode = df.mode()\n",
    "print(\"Mode \\n\", mode)\n"
   ]
  },
  {
   "cell_type": "code",
   "execution_count": 75,
   "id": "b3a67010-17de-4907-bd45-f7d2870ad833",
   "metadata": {},
   "outputs": [
    {
     "name": "stdout",
     "output_type": "stream",
     "text": [
      "     Height  dadheight  momheight\n",
      "0      66.0       71.0       66.0\n",
      "1      72.0       65.0       64.0\n",
      "2      68.0       74.0       62.0\n",
      "3      68.0       70.0       59.0\n",
      "4      64.0       70.0       65.0\n",
      "..      ...        ...        ...\n",
      "150    65.0       72.0       69.0\n",
      "151    72.0       71.0       65.0\n",
      "152    75.0       74.0       68.0\n",
      "153    72.0       74.0       60.0\n",
      "154    64.0       66.0       62.0\n",
      "\n",
      "[155 rows x 3 columns]\n"
     ]
    },
    {
     "data": {
      "text/plain": [
       "array([[<AxesSubplot:title={'center':'Height'}>,\n",
       "        <AxesSubplot:title={'center':'dadheight'}>],\n",
       "       [<AxesSubplot:title={'center':'momheight'}>, <AxesSubplot:>]],\n",
       "      dtype=object)"
      ]
     },
     "execution_count": 75,
     "metadata": {},
     "output_type": "execute_result"
    },
    {
     "data": {
      "image/png": "[encoded data removed]",
      "text/plain": [
       "<Figure size 432x288 with 1 Axes>"
      ]
     },
     "metadata": {
      "needs_background": "light"
     },
     "output_type": "display_data"
    },
    {
     "data": {
      "image/png": "[encoded data removed]",
      "text/plain": [
       "<Figure size 432x288 with 1 Axes>"
      ]
     },
     "metadata": {
      "needs_background": "light"
     },
     "output_type": "display_data"
    },
    {
     "data": {
      "image/png": "[encoded data removed]",
      "text/plain": [
       "<Figure size 432x288 with 1 Axes>"
      ]
     },
     "metadata": {
      "needs_background": "light"
     },
     "output_type": "display_data"
    },
    {
     "data": {
      "image/png": "[encoded data removed]",
      "text/plain": [
       "<Figure size 432x288 with 4 Axes>"
      ]
     },
     "metadata": {
      "needs_background": "light"
     },
     "output_type": "display_data"
    }
   ],
   "source": [
    "# # 2.\n",
    "# # Histogram\n",
    "\n",
    "# Height histogram plot\n",
    "height = df['Height']\n",
    "plt.figure()\n",
    "plt.title(\"Height Histogram plot\")\n",
    "plt.xlabel(\"Height\")\n",
    "plt.ylabel(\"Frequency\")\n",
    "heightPlot=height.hist(grid=False,bins=10)\n",
    "\n",
    "# Dad height histogram plot\n",
    "dadHeight = df['dadheight']\n",
    "plt.figure()\n",
    "plt.title(\"Dad Height Histogram plot\")\n",
    "plt.xlabel(\"Height\")\n",
    "plt.ylabel(\"Frequency\")\n",
    "dadHeight.hist(grid=False,bins=10)\n",
    "\n",
    "# Mom height histogram plot\n",
    "momHeight = df['momheight']\n",
    "plt.figure()\n",
    "plt.title(\"Mom Height Histogram plot\")\n",
    "plt.xlabel(\"Height\")\n",
    "plt.ylabel(\"Frequency\")\n",
    "momHeight.hist(grid=False,bins=10)\n",
    "\n",
    "# Creating a dataframe consisting of heights\n",
    "dfheight = pd.DataFrame(data, columns=['Height', 'dadheight', 'momheight'])\n",
    "print(dfheight)\n",
    "\n",
    "# Histogram for heights\n",
    "dfheight.hist()\n"
   ]
  },
  {
   "cell_type": "code",
   "execution_count": 76,
   "id": "721ad14e-99ef-43d5-b43d-bda894233296",
   "metadata": {},
   "outputs": [
    {
     "data": {
      "text/plain": [
       "<AxesSubplot:>"
      ]
     },
     "execution_count": 76,
     "metadata": {},
     "output_type": "execute_result"
    },
    {
     "data": {
      "image/png": "[encoded data removed]",
      "text/plain": [
       "<Figure size 432x288 with 1 Axes>"
      ]
     },
     "metadata": {
      "needs_background": "light"
     },
     "output_type": "display_data"
    }
   ],
   "source": [
    "# Box Plot\n",
    "# Box plot\n",
    "# All data plot\n",
    "# df.boxplot()  # box plot\n",
    "dfheight.boxplot()\n"
   ]
  },
  {
   "cell_type": "code",
   "execution_count": null,
   "id": "05ffb56f-1a6e-4a45-a434-04f54258a739",
   "metadata": {},
   "outputs": [],
   "source": [
    "# 3.\n",
    "\"\"\"\n",
    "They indicate how much the observations are spread out around, let’s say, “a center”.\n",
    "\"\"\""
   ]
  },
  {
   "cell_type": "code",
   "execution_count": 80,
   "id": "be769d29-2907-4253-b831-2aac4e330156",
   "metadata": {},
   "outputs": [
    {
     "name": "stdout",
     "output_type": "stream",
     "text": [
      "66.0    9.677419\n",
      "65.0    9.032258\n",
      "64.0    9.032258\n",
      "63.0    8.387097\n",
      "68.0    7.741935\n",
      "70.0    7.741935\n",
      "69.0    7.741935\n",
      "67.0    7.096774\n",
      "72.0    5.806452\n",
      "61.0    3.870968\n",
      "71.0    3.225806\n",
      "62.0    2.580645\n",
      "60.0    2.580645\n",
      "75.0    2.580645\n",
      "73.0    1.935484\n",
      "76.0    1.290323\n",
      "77.0    1.290323\n",
      "63.5    1.290323\n",
      "66.5    0.645161\n",
      "72.5    0.645161\n",
      "67.5    0.645161\n",
      "57.0    0.645161\n",
      "68.5    0.645161\n",
      "69.5    0.645161\n",
      "59.0    0.645161\n",
      "62.5    0.645161\n",
      "65.5    0.645161\n",
      "70.5    0.645161\n",
      "64.5    0.645161\n",
      "Name: Height, dtype: float64\n",
      "62.00    17.419355\n",
      "64.00    16.129032\n",
      "60.00    14.193548\n",
      "63.00    10.322581\n",
      "61.00     9.032258\n",
      "66.00     8.387097\n",
      "65.00     7.096774\n",
      "67.00     5.806452\n",
      "68.00     3.225806\n",
      "69.00     1.935484\n",
      "70.00     1.290323\n",
      "59.00     1.290323\n",
      "63.50     0.645161\n",
      "57.00     0.645161\n",
      "71.00     0.645161\n",
      "58.00     0.645161\n",
      "69.25     0.645161\n",
      "54.00     0.645161\n",
      "Name: momheight, dtype: float64\n",
      "68.00    12.258065\n",
      "70.00    11.612903\n",
      "72.00     9.677419\n",
      "74.00     9.032258\n",
      "69.00     9.032258\n",
      "67.00     7.741935\n",
      "71.00     7.096774\n",
      "65.00     6.451613\n",
      "66.00     5.806452\n",
      "73.00     3.870968\n",
      "64.00     3.870968\n",
      "63.00     2.580645\n",
      "76.00     1.935484\n",
      "75.00     1.935484\n",
      "62.00     1.290323\n",
      "77.00     1.290323\n",
      "66.50     0.645161\n",
      "71.50     0.645161\n",
      "78.00     0.645161\n",
      "55.00     0.645161\n",
      "74.75     0.645161\n",
      "61.00     0.645161\n",
      "60.00     0.645161\n",
      "Name: dadheight, dtype: float64\n",
      "Height  dadheight  momheight\n",
      "69.0    68.0       65.0         1.290323\n",
      "64.0    68.0       62.0         1.290323\n",
      "63.0    70.0       61.0         1.290323\n",
      "57.0    66.0       61.0         0.645161\n",
      "68.0    74.0       62.0         0.645161\n",
      "                                  ...   \n",
      "65.0    69.0       63.5         0.645161\n",
      "        70.0       64.0         0.645161\n",
      "        72.0       64.0         0.645161\n",
      "                   69.0         0.645161\n",
      "77.0    76.0       71.0         0.645161\n",
      "Length: 152, dtype: float64\n"
     ]
    }
   ],
   "source": [
    "# 4\n",
    "# Frequency tables\n",
    "# height\n",
    "height_frequency = dfheight['Height'].value_counts(normalize=True) * 100\n",
    "print(height_frequency)\n",
    "\n",
    "# momheight\n",
    "momheight_frequency = dfheight['momheight'].value_counts(normalize=True) * 100\n",
    "print(momheight_frequency)\n",
    "\n",
    "# dadheight\n",
    "dadheight_frequency = dfheight['dadheight'].value_counts(normalize=True) * 100\n",
    "print(dadheight_frequency)\n",
    "\n",
    "# All data\n",
    "frequency_count = dfheight.value_counts(normalize=True) * 100\n",
    "print(frequency_count)\n"
   ]
  },
  {
   "cell_type": "code",
   "execution_count": 90,
   "id": "c9645bc3-007a-414b-9081-dbabe5d41d91",
   "metadata": {},
   "outputs": [
    {
     "data": {
      "text/plain": [
       "<AxesSubplot:>"
      ]
     },
     "execution_count": 90,
     "metadata": {},
     "output_type": "execute_result"
    },
    {
     "data": {
      "image/png": "[encoded data removed]",
      "text/plain": [
       "<Figure size 432x288 with 1 Axes>"
      ]
     },
     "metadata": {
      "needs_background": "light"
     },
     "output_type": "display_data"
    }
   ],
   "source": [
    "# 5.\n",
    "# Bar plot\n",
    "dfHeightBar=dfheight.head()\n",
    "dfHeightBar.plot.bar()"
   ]
  },
  {
   "cell_type": "code",
   "execution_count": 92,
   "id": "dc197698-0bdb-49e1-8eb4-d4089a337ed4",
   "metadata": {},
   "outputs": [
    {
     "data": {
      "text/plain": [
       "array([<AxesSubplot:ylabel='Height'>, <AxesSubplot:ylabel='dadheight'>,\n",
       "       <AxesSubplot:ylabel='momheight'>], dtype=object)"
      ]
     },
     "execution_count": 92,
     "metadata": {},
     "output_type": "execute_result"
    },
    {
     "data": {
      "image/png": "[encoded data removed]",
      "text/plain": [
       "<Figure size 432x288 with 3 Axes>"
      ]
     },
     "metadata": {},
     "output_type": "display_data"
    }
   ],
   "source": [
    "# Pie Plot\n",
    "dfHeightPie=dfheight.head()\n",
    "dfHeightPie.plot.pie(subplots=True)"
   ]
  },
  {
   "cell_type": "code",
   "execution_count": 94,
   "id": "136190fe-3ad1-49da-9a4f-30ba564385b2",
   "metadata": {},
   "outputs": [
    {
     "data": {
      "text/plain": [
       "array([<AxesSubplot:ylabel='Height'>], dtype=object)"
      ]
     },
     "execution_count": 94,
     "metadata": {},
     "output_type": "execute_result"
    },
    {
     "data": {
      "image/png": "[encoded data removed]",
      "text/plain": [
       "<Figure size 432x288 with 1 Axes>"
      ]
     },
     "metadata": {},
     "output_type": "display_data"
    }
   ],
   "source": [
    "dfheight['Height'].head().plot.pie(subplots=True)"
   ]
  },
  {
   "cell_type": "code",
   "execution_count": 95,
   "id": "eb82284b-3bee-4211-a1da-d427d7b2fa42",
   "metadata": {},
   "outputs": [
    {
     "data": {
      "text/plain": [
       "array([<AxesSubplot:ylabel='dadheight'>], dtype=object)"
      ]
     },
     "execution_count": 95,
     "metadata": {},
     "output_type": "execute_result"
    },
    {
     "data": {
      "image/png": "[encoded data removed]",
      "text/plain": [
       "<Figure size 432x288 with 1 Axes>"
      ]
     },
     "metadata": {},
     "output_type": "display_data"
    }
   ],
   "source": [
    "dfheight['dadheight'].head().plot.pie(subplots=True)"
   ]
  },
  {
   "cell_type": "code",
   "execution_count": 98,
   "id": "8182dd71-05a9-4334-b588-8990cfa7768c",
   "metadata": {},
   "outputs": [
    {
     "data": {
      "text/plain": [
       "array([<AxesSubplot:ylabel='momheight'>], dtype=object)"
      ]
     },
     "execution_count": 98,
     "metadata": {},
     "output_type": "execute_result"
    },
    {
     "data": {
      "image/png": "[encoded data removed]",
      "text/plain": [
       "<Figure size 432x288 with 1 Axes>"
      ]
     },
     "metadata": {},
     "output_type": "display_data"
    }
   ],
   "source": [
    "df['momheight'].tail().plot.pie(subplots=True)"
   ]
  },
  {
   "cell_type": "code",
   "execution_count": null,
   "id": "a00257d3-3810-4060-9ab1-340c486b9245",
   "metadata": {},
   "outputs": [],
   "source": [
    "# 6.\n",
    "\"\"\"\n",
    "The frequency distribution of the height, dadheight and momheight are normally distributed\n",
    "\"\"\"\n"
   ]
  },
  {
   "cell_type": "code",
   "execution_count": 101,
   "id": "4f8b2f91-5f5a-4bcf-8dea-9d4baa38717e",
   "metadata": {},
   "outputs": [
    {
     "name": "stdout",
     "output_type": "stream",
     "text": [
      "computer  0.0   1.0   1.5      2.0       3.0   4.0       5.0   5.5   6.0   \\\n",
      "TV        20.0   7.0   8.0  17.9375  6.416667  13.0  5.769231   1.5   5.0   \n",
      "\n",
      "computer    7.0   ...  24.0       25.0      28.0       30.0  32.0  35.0  37.0  \\\n",
      "TV        10.125  ...  30.0  13.142857  6.666667  11.166667   8.0  4.25   1.0   \n",
      "\n",
      "computer       40.0  50.0  84.0  \n",
      "TV        18.333333  10.0   1.0  \n",
      "\n",
      "[1 rows x 36 columns]\n"
     ]
    },
    {
     "data": {
      "text/plain": [
       "'\\n  The frequency distribution between TV and computer is inversly proportional.\\n  I.e the higher the computer frequency distribution, the lower the TV frequency distribution and vice versa.\\n'"
      ]
     },
     "execution_count": 101,
     "metadata": {},
     "output_type": "execute_result"
    }
   ],
   "source": [
    "# 7.\n",
    "# Contingency table\n",
    "\n",
    "pivot_table = pd.pivot_table(df, values='TV', columns=['computer'])\n",
    "print(pivot_table)\n",
    "\n",
    "\"\"\"\n",
    "  The frequency distribution between TV and computer is inversly proportional.\n",
    "  I.e the higher the computer frequency distribution, the lower the TV frequency distribution and vice versa.\n",
    "\"\"\""
   ]
  },
  {
   "cell_type": "code",
   "execution_count": 102,
   "id": "98bea14c-997c-4455-a6ae-5cc1426ecc06",
   "metadata": {},
   "outputs": [
    {
     "name": "stdout",
     "output_type": "stream",
     "text": [
      "1.0      12.903226\n",
      "10.0     10.322581\n",
      "2.0       9.677419\n",
      "4.0       7.096774\n",
      "8.0       7.096774\n",
      "15.0      7.096774\n",
      "5.0       5.161290\n",
      "20.0      4.516129\n",
      "3.0       3.870968\n",
      "14.0      3.870968\n",
      "6.0       3.225806\n",
      "0.0       3.225806\n",
      "3.5       3.225806\n",
      "1.5       1.935484\n",
      "11.0      1.935484\n",
      "9.0       1.935484\n",
      "30.0      1.935484\n",
      "35.0      1.290323\n",
      "12.0      1.290323\n",
      "21.0      1.290323\n",
      "0.5       1.290323\n",
      "40.0      0.645161\n",
      "16.0      0.645161\n",
      "25.0      0.645161\n",
      "18.0      0.645161\n",
      "13.0      0.645161\n",
      "7.0       0.645161\n",
      "5.5       0.645161\n",
      "2.5       0.645161\n",
      "100.0     0.645161\n",
      "Name: TV, dtype: float64\n",
      "10.0    12.987013\n",
      "20.0     8.441558\n",
      "5.0      8.441558\n",
      "7.0      5.194805\n",
      "2.0      5.194805\n",
      "14.0     5.194805\n",
      "25.0     4.545455\n",
      "6.0      4.545455\n",
      "15.0     4.545455\n",
      "30.0     3.896104\n",
      "3.0      3.896104\n",
      "21.0     3.246753\n",
      "35.0     2.597403\n",
      "8.0      2.597403\n",
      "4.0      2.597403\n",
      "12.0     2.597403\n",
      "1.0      2.597403\n",
      "28.0     1.948052\n",
      "40.0     1.948052\n",
      "9.0      1.948052\n",
      "17.5     1.298701\n",
      "8.5      0.649351\n",
      "12.5     0.649351\n",
      "37.0     0.649351\n",
      "0.0      0.649351\n",
      "24.0     0.649351\n",
      "7.5      0.649351\n",
      "22.5     0.649351\n",
      "17.0     0.649351\n",
      "11.0     0.649351\n",
      "32.0     0.649351\n",
      "13.5     0.649351\n",
      "50.0     0.649351\n",
      "84.0     0.649351\n",
      "5.5      0.649351\n",
      "1.5      0.649351\n",
      "Name: computer, dtype: float64\n"
     ]
    },
    {
     "data": {
      "text/plain": [
       "'\\nThe distribution is inversly proportional.\\n'"
      ]
     },
     "execution_count": 102,
     "metadata": {},
     "output_type": "execute_result"
    }
   ],
   "source": [
    "# 8.\n",
    "# TV & computer frequency\n",
    "TV_frequency = df['TV'].value_counts(normalize=True) * 100\n",
    "print(TV_frequency)\n",
    "\n",
    "Computer_frequency = df['computer'].value_counts(normalize=True) * 100\n",
    "print(Computer_frequency)\n",
    "\n",
    "\"\"\"\n",
    "The distribution is inversly proportional.\n",
    "\"\"\""
   ]
  },
  {
   "cell_type": "code",
   "execution_count": 106,
   "id": "f885ab7a-11a7-4349-a6f5-32d816634978",
   "metadata": {},
   "outputs": [
    {
     "data": {
      "text/plain": [
       "<AxesSubplot:xlabel='computer'>"
      ]
     },
     "execution_count": 106,
     "metadata": {},
     "output_type": "execute_result"
    },
    {
     "data": {
      "image/png": "[encoded data removed]",
      "text/plain": [
       "<Figure size 432x288 with 1 Axes>"
      ]
     },
     "metadata": {
      "needs_background": "light"
     },
     "output_type": "display_data"
    },
    {
     "data": {
      "image/png": "[encoded data removed]",
      "text/plain": [
       "<Figure size 432x288 with 1 Axes>"
      ]
     },
     "metadata": {
      "needs_background": "light"
     },
     "output_type": "display_data"
    },
    {
     "data": {
      "image/png": "[encoded data removed]",
      "text/plain": [
       "<Figure size 432x288 with 1 Axes>"
      ]
     },
     "metadata": {
      "needs_background": "light"
     },
     "output_type": "display_data"
    }
   ],
   "source": [
    "#  9.\n",
    "# Grouped bar chart\n",
    "groups = [df.TV, df.computer]\n",
    "group_labels = ['TV', 'Computer']\n",
    "\n",
    "# Convert data to pandas DataFrame.\n",
    "Tv_Computer_df = pd.DataFrame(groups, index=group_labels).T\n",
    "\n",
    "# Plot.\n",
    "pd.concat(\n",
    "    [Tv_Computer_df.mean().rename('average'), Tv_Computer_df.min().rename('min'), Tv_Computer_df.max().rename('max')],\n",
    "    axis=1).plot.bar()\n",
    "\n",
    "# Stacked bar chart\n",
    "pd.concat(\n",
    "    [Tv_Computer_df.mean().rename('average'), Tv_Computer_df.min().rename('min'), Tv_Computer_df.max().rename('max')],\n",
    "    axis=1).plot.bar(stacked=True)\n",
    "\n",
    "#   100% Stacked bar chart\n",
    "# stacked_bar = pd.DataFrame({'TV': df.TV, 'Computer': df.computer}, index=['TV', 'Computer'])\n",
    "stacked_bar = pd.DataFrame(df.TV, df.computer).head()\n",
    "\n",
    "stacked_bar.plot.bar(stacked=True)"
   ]
  },
  {
   "cell_type": "code",
   "execution_count": null,
   "id": "09888334-eaa3-4419-ab5f-3d1bc4478981",
   "metadata": {},
   "outputs": [],
   "source": [
    "# 10.\n",
    "\"\"\"The stacked bar chart is a better visualization as it gives clear differences between the data compared. The other\n",
    "two comparisons may be hard to read for very large datasets. \"\"\"\n"
   ]
  },
  {
   "cell_type": "code",
   "execution_count": 107,
   "id": "d77627a2-962c-45ee-86d1-1f400dc58dbd",
   "metadata": {},
   "outputs": [
    {
     "name": "stdout",
     "output_type": "stream",
     "text": [
      "TV           8.741935\n",
      "computer    14.068182\n",
      "Sleep        6.985484\n",
      "alcohol      4.409091\n",
      "exercise     4.597403\n",
      "GPA          2.913582\n",
      "dtype: float64\n"
     ]
    },
    {
     "data": {
      "text/plain": [
       "'\\nTV           8.741935\\ncomputer    14.068182\\nSleep        6.985484\\nalcohol      4.409091\\nexercise     4.597403\\nGPA          2.913582\\n'"
      ]
     },
     "execution_count": 107,
     "metadata": {},
     "output_type": "execute_result"
    }
   ],
   "source": [
    "# 11.\n",
    "Seat = pd.DataFrame(data, columns=['TV', 'computer', 'Sleep', 'alcohol', 'exercise', 'GPA'])\n",
    "MeanSeat = Seat.mean()\n",
    "\n",
    "print(MeanSeat)"
   ]
  },
  {
   "cell_type": "code",
   "execution_count": 109,
   "id": "ad3b787e-e59c-49e3-84d4-b09aa0235a11",
   "metadata": {},
   "outputs": [
    {
     "name": "stdout",
     "output_type": "stream",
     "text": [
      "     alcohol   GPA\n",
      "0       12.0  4.00\n",
      "1        0.0  2.30\n",
      "2        0.0  2.60\n",
      "3        0.0  2.80\n",
      "4        5.0  2.62\n",
      "..       ...   ...\n",
      "150      4.0  2.18\n",
      "151      3.0  2.80\n",
      "152     10.0  3.50\n",
      "153      5.0  4.00\n",
      "154      0.0  4.00\n",
      "\n",
      "[155 rows x 2 columns]\n"
     ]
    },
    {
     "data": {
      "text/plain": [
       "<AxesSubplot:>"
      ]
     },
     "execution_count": 109,
     "metadata": {},
     "output_type": "execute_result"
    },
    {
     "data": {
      "image/png": "[encoded data removed]",
      "text/plain": [
       "<Figure size 432x288 with 1 Axes>"
      ]
     },
     "metadata": {
      "needs_background": "light"
     },
     "output_type": "display_data"
    }
   ],
   "source": [
    "# 12.\n",
    "# alcohol,GPA\n",
    "# box plot\n",
    "alcohol_GPA = pd.DataFrame(data, columns=['alcohol', 'GPA'])\n",
    "print(alcohol_GPA)\n",
    "alcohol_GPA.boxplot()\n"
   ]
  },
  {
   "cell_type": "code",
   "execution_count": 110,
   "id": "4796ba5a-ab73-4545-a732-9551033a4e46",
   "metadata": {},
   "outputs": [
    {
     "name": "stdout",
     "output_type": "stream",
     "text": [
      "TV:6.0, Computer: 10.0,Sleep:7.0,Alcohol:1.0,Height:66.5,MomHeight:63.0,DadHeight:69.0,Exercise:3.0,GPA:3.0\n",
      "[[13.  10.   3.5 ... 71.  10.   4. ]\n",
      " [20.   7.   9.  ... 65.   2.   2.3]\n",
      " [15.  15.   6.  ... 74.   3.   2.6]\n",
      " ...\n",
      " [ 9.   7.   7.  ... 74.   7.   3.5]\n",
      " [ 1.  10.   5.  ... 74.   3.   4. ]\n",
      " [ 5.   2.   6.  ... 66.   6.   4. ]]\n",
      "Sex:56.0\n",
      "Seat:61.7\n",
      "libarts:59.0\n",
      "TV:53.0\n",
      "computer:59.0\n",
      "Sleep:58.0\n",
      "alcohol:62.22\n",
      "Height:58.5\n",
      "momheight:65.0\n",
      "dadheight:58.5\n",
      "exercise:55.0\n",
      "GPA:61.0\n",
      "Sex:67.5\n",
      "Seat:72.0\n",
      "libarts:74.0\n",
      "TV:70.0\n",
      "computer:67.5\n",
      "Sleep:68.5\n",
      "alcohol:74.5\n",
      "Height:66.8\n",
      "momheight:70.0\n",
      "dadheight:67.0\n",
      "exercise:65.0\n",
      "GPA:69.0\n",
      "Sex:66.0\n",
      "Seat:64.0\n",
      "libarts:62.0\n",
      "TV:59.0\n",
      "computer:64.0\n",
      "Sleep:60.0\n",
      "alcohol:66.0\n",
      "Height:63.0\n",
      "momheight:68.0\n",
      "dadheight:63.0\n",
      "exercise:62.0\n",
      "GPA:64.0\n",
      "Sex:10.0\n",
      "Seat:2.3\n",
      "libarts:3.0\n",
      "TV:6.0\n",
      "computer:5.0\n",
      "Sleep:2.0\n",
      "alcohol:3.78\n",
      "Height:4.5\n",
      "momheight:3.0\n",
      "dadheight:4.5\n",
      "exercise:7.0\n",
      "GPA:3.0\n"
     ]
    }
   ],
   "source": [
    "# 13.\n",
    "# Median\n",
    "TV_median = df.TV.median()\n",
    "computer_median = df.computer.median()\n",
    "Sleep_median = df.Sleep.median()\n",
    "alcohol_median = df.alcohol.median()\n",
    "Height_median = df.Height.median()\n",
    "momheight_median = df.momheight.median()\n",
    "dadheight_median = df.dadheight.median()\n",
    "exercise_median = df.exercise.median()\n",
    "GPA_median = df.GPA.median()\n",
    "\n",
    "print(\n",
    "    f'TV:{TV_median}, Computer: {computer_median},Sleep:{Sleep_median},Alcohol:{alcohol_median},Height:{Height_median},MomHeight:{momheight_median},DadHeight:{dadheight_median},Exercise:{exercise_median},GPA:{GPA_median}')\n",
    "\n",
    "# IQR\n",
    "\n",
    "df_np = df._get_numeric_data().to_numpy()\n",
    "print(df_np)\n",
    "labels = [label for label in df]\n",
    "\n",
    "for label, var in zip(labels, df_np):\n",
    "    q3, q1 = np.percentile(var, [75, 25])\n",
    "    iqr = q3 - q1\n",
    "    print(f'{label}:{iqr}')\n",
    "\n",
    "# Range\n",
    "for label, var in zip(labels, df_np):\n",
    "    data_range = np.max(var) - np.min(var)\n",
    "    print(f'{label}:{data_range}')\n",
    "\n",
    "# Quartiles upper\n",
    "for label, var in zip(labels, df_np):\n",
    "    q3 = np.percentile(var, 75)\n",
    "    print(f'{label}:{q3}')\n",
    "\n",
    "for label, var in zip(labels, df_np):\n",
    "    q1 = np.percentile(var, 25)\n",
    "    print(f'{label}:{q1}')"
   ]
  },
  {
   "cell_type": "code",
   "execution_count": 111,
   "id": "2373077f-dd25-4d28-9cde-5e780ab67dae",
   "metadata": {},
   "outputs": [
    {
     "data": {
      "text/plain": [
       "'\\nThe height of the dad explains the height of the student.\\n'"
      ]
     },
     "execution_count": 111,
     "metadata": {},
     "output_type": "execute_result"
    },
    {
     "data": {
      "image/png": "[encoded data removed]",
      "text/plain": [
       "<Figure size 432x288 with 1 Axes>"
      ]
     },
     "metadata": {
      "needs_background": "light"
     },
     "output_type": "display_data"
    }
   ],
   "source": [
    "# 14.\n",
    "# scatter plot\n",
    "df.plot.scatter(x=\"Height\", y=\"dadheight\")\n",
    "\"\"\"\n",
    "The height of the dad explains the height of the student.\n",
    "\"\"\""
   ]
  },
  {
   "cell_type": "code",
   "execution_count": 112,
   "id": "e9c6dc00-aef3-4fe6-9dff-6478d82bd007",
   "metadata": {},
   "outputs": [
    {
     "data": {
      "text/plain": [
       "'\\nLarge number of students vs dad height comparison lies in the center to mean normal relation.\\n'"
      ]
     },
     "execution_count": 112,
     "metadata": {},
     "output_type": "execute_result"
    }
   ],
   "source": [
    "# 15.\n",
    "\"\"\"\n",
    "Large number of students vs dad height comparison lies in the center to mean normal relation.\n",
    "\"\"\"\n"
   ]
  },
  {
   "cell_type": "code",
   "execution_count": 118,
   "id": "6f379b84-3849-42ea-911f-521d69aa344b",
   "metadata": {},
   "outputs": [
    {
     "name": "stdout",
     "output_type": "stream",
     "text": [
      "[ 3.5   9.    6.    6.    5.    9.    8.5   7.    8.    4.5   8.    5.\n",
      "  8.    5.    9.    9.    6.5   5.    4.    8.5   9.5   8.5   9.    6.\n",
      "  6.5   5.    7.    5.    6.    7.    8.    7.    6.5   6.    7.    7.\n",
      "  5.5   7.5   9.    7.    6.5   6.    9.    4.    3.5   4.5   8.5   7.\n",
      " 11.    8.    4.    7.    4.5   4.    7.    9.5   5.    9.    9.    8.\n",
      "  8.    8.5   6.5   5.    7.5   8.    2.    5.25  7.5   8.    9.    7.5\n",
      "  6.5  12.    6.   10.    5.    6.5   6.5   7.    7.    8.    7.    8.\n",
      "  7.    8.    8.    8.    9.    8.    6.    6.5   7.    8.5   7.    6.\n",
      " 10.    6.   10.   10.5   8.    7.    7.5   8.5   7.    4.    7.    8.\n",
      "  7.    6.    7.   10.    7.    4.5   6.    3.    6.    5.    4.5   7.\n",
      "  8.    5.    9.    6.    6.    7.5   5.5   7.    9.    8.    8.    8.\n",
      "  6.5   6.    7.   10.    8.    9.    7.    8.    6.    4.5   8.    6.\n",
      "  5.5   7.    9.5   8.    5.5   8.    5.    6.    7.    5.    6.  ]\n",
      "Sleep confidence 90%: (6.759444916820999, 7.211522825114485),\n",
      " Sleep confidence 95%: (6.716141844436291, 7.254825897499193),\n",
      " Sleep confidence 99%: (6.631508445863302, 7.339459296072182)\n"
     ]
    }
   ],
   "source": [
    "# 16.\n",
    "# Sleep data\n",
    "sleep_data = np.array(df.Sleep)\n",
    "\n",
    "print(sleep_data)\n",
    "\n",
    "# create 95% confidence interval for sleep data\n",
    "sleep_confidence_90 = st.norm.interval(alpha=0.90, loc=np.mean(sleep_data), scale=st.sem(sleep_data))\n",
    "sleep_confidence_95 = st.norm.interval(alpha=0.95, loc=np.mean(sleep_data), scale=st.sem(sleep_data))\n",
    "sleep_confidence_99 = st.norm.interval(alpha=0.99, loc=np.mean(sleep_data), scale=st.sem(sleep_data))\n",
    "\n",
    "print(f'Sleep confidence 90%: {sleep_confidence_90},\\n Sleep confidence 95%: {sleep_confidence_95},\\n Sleep confidence 99%: {sleep_confidence_99}')\n"
   ]
  },
  {
   "cell_type": "code",
   "execution_count": 119,
   "id": "4d4a9fa6-abe7-412a-9dcd-d5b9145571a6",
   "metadata": {},
   "outputs": [
    {
     "data": {
      "text/plain": [
       "'\\nThe confidence interval increases with increase in levels ie.\\n90%: 0.4520779082934858\\n95%: 0.5386840530629016\\n99%: 0.7079508502088796\\n'"
      ]
     },
     "execution_count": 119,
     "metadata": {},
     "output_type": "execute_result"
    }
   ],
   "source": [
    "# 17.\n",
    "\"\"\"\n",
    "The confidence interval increases with increase in levels ie.\n",
    "90%: 0.4520779082934858\n",
    "95%: 0.5386840530629016\n",
    "99%: 0.7079508502088796\n",
    "\"\"\""
   ]
  },
  {
   "cell_type": "code",
   "execution_count": 120,
   "id": "95481025-d9b0-4a91-83ef-cf1b4c4154a3",
   "metadata": {},
   "outputs": [
    {
     "name": "stdout",
     "output_type": "stream",
     "text": [
      "        Sex    Seat libarts    TV  computer  Sleep  alcohol  Height  \\\n",
      "0    Female    Back  NonLib  13.0      10.0    3.5     12.0    66.0   \n",
      "1      Male    Back  NonLib  20.0       7.0    9.0      0.0    72.0   \n",
      "2      Male    Back  NonLib  15.0      15.0    6.0      0.0    68.0   \n",
      "3      Male  Middle  NonLib   8.0      20.0    6.0      0.0    68.0   \n",
      "4    Female   Front  NonLib   2.5      10.0    5.0      5.0    64.0   \n",
      "..      ...     ...     ...   ...       ...    ...      ...     ...   \n",
      "150  Female    Back  NonLib   5.0      35.0    5.0      4.0    65.0   \n",
      "151    Male    Back  NonLib   8.0      32.0    6.0      3.0    72.0   \n",
      "152    Male  Middle  NonLib   9.0       7.0    7.0     10.0    75.0   \n",
      "153    Male   Front  NonLib   1.0      10.0    5.0      5.0    72.0   \n",
      "154  Female  Middle  NonLib   5.0       2.0    6.0      0.0    64.0   \n",
      "\n",
      "     momheight  dadheight  exercise   GPA  avgMomDadHeight  \n",
      "0         66.0       71.0      10.0  4.00             68.5  \n",
      "1         64.0       65.0       2.0  2.30             64.5  \n",
      "2         62.0       74.0       3.0  2.60             68.0  \n",
      "3         59.0       70.0       6.0  2.80             64.5  \n",
      "4         65.0       70.0       6.5  2.62             67.5  \n",
      "..         ...        ...       ...   ...              ...  \n",
      "150       69.0       72.0       5.0  2.18             70.5  \n",
      "151       65.0       71.0       1.5  2.80             68.0  \n",
      "152       68.0       74.0       7.0  3.50             71.0  \n",
      "153       60.0       74.0       3.0  4.00             67.0  \n",
      "154       62.0       66.0       6.0  4.00             64.0  \n",
      "\n",
      "[155 rows x 13 columns]\n"
     ]
    }
   ],
   "source": [
    "# 18.\n",
    "# avg momheight dadheight\n",
    "df_new = df.copy()\n",
    "df_new['avgMomDadHeight'] = (df.momheight + df.dadheight) / 2\n",
    "print(df_new)\n"
   ]
  },
  {
   "cell_type": "code",
   "execution_count": 121,
   "id": "07cca93d-3567-4f0d-a396-f0b9899a5a6c",
   "metadata": {},
   "outputs": [
    {
     "data": {
      "text/plain": [
       "'\\nI chose the mean of dad + mom height to help relate to the Height column.\\nI get the average data by adding the momheight column to the dadheight column and dividing the sum by two.\\n'"
      ]
     },
     "execution_count": 121,
     "metadata": {},
     "output_type": "execute_result"
    }
   ],
   "source": [
    "# 19.\n",
    "\"\"\"\n",
    "I chose the mean of dad + mom height to help relate to the Height column.\n",
    "I get the average data by adding the momheight column to the dadheight column and dividing the sum by two.\n",
    "\"\"\""
   ]
  },
  {
   "cell_type": "code",
   "execution_count": 122,
   "id": "679b9c6a-0154-4a86-92e6-b4701c37dd0d",
   "metadata": {},
   "outputs": [
    {
     "data": {
      "text/plain": [
       "'\\nthe overal mean range is small ie 0-4\\nThe dad and mom height determines the Student height\\n'"
      ]
     },
     "execution_count": 122,
     "metadata": {},
     "output_type": "execute_result"
    }
   ],
   "source": [
    "# 20.\n",
    "\n",
    "avgHeights = pd.DataFrame([df_new.Height, df_new.avgMomDadHeight])\n",
    "avgMeanHeight = avgHeights.mean()\n",
    "\n",
    "\"\"\"\n",
    "the overal mean range is small ie 0-4\n",
    "The dad and mom height determines the Student height\n",
    "\"\"\""
   ]
  },
  {
   "cell_type": "code",
   "execution_count": 123,
   "id": "c95751ea-992d-4d04-8015-cac1b3fa161e",
   "metadata": {},
   "outputs": [
    {
     "name": "stdout",
     "output_type": "stream",
     "text": [
      "        Sex    Seat  libarts    TV  computer  Sleep  alcohol  Height  \\\n",
      "1      Male    Back   NonLib  20.0       7.0    9.0      0.0    72.0   \n",
      "123    Male    Back   NonLib  12.0      25.0    6.0      0.0    76.0   \n",
      "21     Male   Front   NonLib   1.5       8.0    8.5      0.0    67.0   \n",
      "94   Female   Front  LibArts  20.0       8.0    7.0      0.0    60.0   \n",
      "127    Male  Middle   NonLib   9.0       2.0    7.0     20.0    77.0   \n",
      "48   Female  Middle   NonLib   2.0      10.0   11.0      0.0    64.0   \n",
      "3      Male  Middle   NonLib   8.0      20.0    6.0      0.0    68.0   \n",
      "29     Male   Front   NonLib   3.5      22.5    7.0      2.0    66.0   \n",
      "52   Female   Front   NonLib   6.0       3.0    4.5      1.0    63.0   \n",
      "2      Male    Back   NonLib  15.0      15.0    6.0      0.0    68.0   \n",
      "55   Female    Back   NonLib  15.0       6.0    9.5      0.0    67.0   \n",
      "102    Male   Front  LibArts   0.0      14.0    7.5      0.0    72.0   \n",
      "90     Male  Middle  LibArts  15.0      10.0    6.0      2.0    71.0   \n",
      "43     Male  Middle   NonLib   5.0      20.0    4.0      2.0    70.0   \n",
      "95     Male   Front  LibArts  20.0      30.0    6.0      0.0    64.0   \n",
      "93   Female  Middle  LibArts   6.0       5.0    8.5      4.0    63.0   \n",
      "97     Male   Front  LibArts  15.0      15.0    6.0      0.0    66.0   \n",
      "96     Male    Back  LibArts  35.0      40.0   10.0      5.0    63.0   \n",
      "65     Male    Back   NonLib   4.0      10.0    8.0     10.0    73.0   \n",
      "13     Male   Front   NonLib   1.0      84.0    5.0      2.5    61.0   \n",
      "0    Female    Back   NonLib  13.0      10.0    3.5     12.0    66.0   \n",
      "144    Male  Middle   NonLib  10.0       2.0    5.5     20.0    68.0   \n",
      "100  Female  Middle  LibArts   1.0       2.0    8.0      0.0    65.5   \n",
      "89   Female   Front  LibArts  10.0       5.0    8.0      0.0    67.0   \n",
      "20   Female   Front   NonLib  30.0      30.0    9.5      0.0    68.0   \n",
      "49   Female  Middle   NonLib   8.0       7.0    8.0      0.0    66.0   \n",
      "112    Male  Middle   NonLib   2.0      28.0    7.0      3.0    70.0   \n",
      "53   Female  Middle   NonLib  10.0       7.0    4.0      0.0    65.0   \n",
      "42     Male  Middle   NonLib  20.0      25.0    9.0      0.0    70.0   \n",
      "31     Male     NaN   NonLib   1.0      14.0    7.0      0.0    69.0   \n",
      "\n",
      "     momheight  dadheight  exercise   GPA  \n",
      "1         64.0       65.0       2.0  2.30  \n",
      "123       64.0       72.0       1.5  3.17  \n",
      "21        64.0       66.0       5.0  3.50  \n",
      "94        60.0       66.0       0.0  3.10  \n",
      "127       71.0       76.0      15.0  2.34  \n",
      "48        62.0       68.0       2.0  3.06  \n",
      "3         59.0       70.0       6.0  2.80  \n",
      "29        60.0       64.0       3.0  3.40  \n",
      "52        64.0       74.0       5.5  3.20  \n",
      "2         62.0       74.0       3.0  2.60  \n",
      "55        64.0       70.0       2.0  2.50  \n",
      "102       67.0       74.0       4.0  2.10  \n",
      "90        66.0       69.0       1.0  2.70  \n",
      "43        64.0       68.0       2.0  3.20  \n",
      "95        60.0       65.0      10.0  2.50  \n",
      "93        61.0       67.0       1.0  2.17  \n",
      "97        61.0       61.0       2.0  3.60  \n",
      "96        65.0       64.0       2.0  3.43  \n",
      "65        67.0       72.0       6.0  3.50  \n",
      "13        62.0       62.0       3.0  2.34  \n",
      "0         66.0       71.0      10.0  4.00  \n",
      "144       63.0       68.0       8.0  2.40  \n",
      "100       62.0       71.0       4.5  3.22  \n",
      "89        65.0       68.0       2.5  3.50  \n",
      "20        68.0       69.0       1.0  2.50  \n",
      "49        64.0       73.0       6.0  2.80  \n",
      "112       60.0       78.0       2.0  3.18  \n",
      "53        62.0       75.0       2.0  3.50  \n",
      "42        60.0       64.0       5.0  2.51  \n",
      "31        64.0       69.0      10.0  3.20  \n"
     ]
    }
   ],
   "source": [
    "# 21.\n",
    "ucdavis_sample1 = df.sample(30)\n",
    "print(ucdavis_sample1)"
   ]
  },
  {
   "cell_type": "code",
   "execution_count": 124,
   "id": "c1e94aa7-ead2-4ebb-93cf-7e7def5ff417",
   "metadata": {},
   "outputs": [],
   "source": [
    "# 22.\n",
    "ucdavis_sample1.to_csv('ucdavis_sample1')"
   ]
  }
 ],
 "metadata": {
  "kernelspec": {
   "display_name": "Python 3",
   "language": "python",
   "name": "python3"
  },
  "language_info": {
   "codemirror_mode": {
    "name": "ipython",
    "version": 3
   },
   "file_extension": ".py",
   "mimetype": "text/x-python",
   "name": "python",
   "nbconvert_exporter": "python",
   "pygments_lexer": "ipython3",
   "version": "3.8.8"
  }
 },
 "nbformat": 4,
 "nbformat_minor": 5
}
